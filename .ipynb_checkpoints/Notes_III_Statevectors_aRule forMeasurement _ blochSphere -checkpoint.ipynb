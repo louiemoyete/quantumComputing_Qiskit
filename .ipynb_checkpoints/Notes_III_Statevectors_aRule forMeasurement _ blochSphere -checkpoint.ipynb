{
 "cells": [
  {
   "cell_type": "raw",
   "metadata": {},
   "source": [
    "(  quantum physics ) statevectors describe the state of system.\n",
    "...\n",
    "Alternatively, use a collection of numbers in a vector called a statevector. Each element in the statevector contains the probability of finding the object in a certain place:\n",
    "...\n",
    "con: requires keeping huge vectors when we only need one number. \n",
    "...\n",
    "However, statevectors are a good way of keeping track of quantum systems, including quantum computers\n",
    "...\n",
    "Vector :  |q0⟩  is called the qubit's statevector, it tells everything about this qubit. \n",
    "...\n",
    "Example conclusions drawn about this example of a statevector: \n",
    "...\n",
    "    it is not entirely |0⟩  and not entirely  |1⟩ .\n",
    "   ... \n",
    "    it is described by a linear combination of the two.\n",
    "    ...\n",
    "( quantum mechanics ) linear combinations such as this are described using the word 'superposition'."
   ]
  },
  {
   "cell_type": "code",
   "execution_count": null,
   "metadata": {},
   "outputs": [],
   "source": [
    "from qiskit import QuantumCircuit, execute, Aer\n",
    "from qiskit.visualization import plot_histogram, plot_bloch_vector\n",
    "from math import sqrt, pi"
   ]
  },
  {
   "cell_type": "code",
   "execution_count": null,
   "metadata": {},
   "outputs": [],
   "source": [
    "# In Qiskit, we use the QuantumCircuit object to store our circuits"
   ]
  },
  {
   "cell_type": "code",
   "execution_count": null,
   "metadata": {},
   "outputs": [],
   "source": [
    "qc = QuantumCircuit(1) # Create a quantum circuit with one qubit"
   ]
  },
  {
   "cell_type": "code",
   "execution_count": null,
   "metadata": {},
   "outputs": [],
   "source": [
    "# In our quantum circuits, our qubits always start out in the state  |0⟩ . We can use the initialize() method to transform this into any state"
   ]
  },
  {
   "cell_type": "code",
   "execution_count": null,
   "metadata": {},
   "outputs": [],
   "source": [
    "qc = QuantumCircuit(1)  # Create a quantum circuit with one qubit\n",
    "initial_state = [0,1]   # Define initial_state as |1>\n",
    "qc.initialize(initial_state, 0) # Apply initialisation operation to the 0th qubit\n",
    "qc.draw('text')  # Let's view our circuit (text drawing is required for the 'Initialize' gate due to a known bug in qiskit)"
   ]
  },
  {
   "cell_type": "code",
   "execution_count": null,
   "metadata": {},
   "outputs": [],
   "source": [
    "backend = Aer.get_backend('statevector_simulator') # Tell Qiskit how to simulate our circuit"
   ]
  },
  {
   "cell_type": "code",
   "execution_count": null,
   "metadata": {},
   "outputs": [],
   "source": [
    "# To get the results from our circuit, we use execute to run our circuit, giving the circuit and the backend as arguments. We then use .result() to get the result  "
   ]
  },
  {
   "cell_type": "code",
   "execution_count": null,
   "metadata": {},
   "outputs": [],
   "source": [
    "qc = QuantumCircuit(1) # Create a quantum circuit with one qubit\n",
    "initial_state = [0,1]   # Define initial_state as |1>\n",
    "qc.initialize(initial_state, 0) # Apply initialisation operation to the 0th qubit\n",
    "result = execute(qc,backend).result() # Do the simulation, returning the result"
   ]
  },
  {
   "cell_type": "code",
   "execution_count": null,
   "metadata": {},
   "outputs": [],
   "source": [
    "qc = QuantumCircuit(1) # Create a quantum circuit with one qubit\n",
    "initial_state = [0,1]   # Define initial_state as |1>\n",
    "qc.initialize(initial_state, 0) # Apply initialisation operation to the 0th qubit\n",
    "result = execute(qc,backend).result() # Do the simulation, returning the result\n",
    "out_state = result.get_statevector()\n",
    "print(out_state) # Display the output state vector"
   ]
  },
  {
   "cell_type": "code",
   "execution_count": null,
   "metadata": {},
   "outputs": [],
   "source": [
    "# Let’s now measure our qubit as we would in a real quantum computer and see the result:"
   ]
  },
  {
   "cell_type": "code",
   "execution_count": null,
   "metadata": {},
   "outputs": [],
   "source": [
    "qc.measure_all()\n",
    "qc.draw()"
   ]
  },
  {
   "cell_type": "code",
   "execution_count": null,
   "metadata": {},
   "outputs": [],
   "source": [
    "result = execute(qc,backend).result()\n",
    "counts = result.get_counts()\n",
    "plot_histogram(counts)"
   ]
  },
  {
   "cell_type": "code",
   "execution_count": null,
   "metadata": {},
   "outputs": [],
   "source": [
    "# We can see that we (unsurprisingly) have a 100% chance of measuring  |1⟩ . This time, let’s instead put our qubit into a superposition and see what happens."
   ]
  },
  {
   "cell_type": "code",
   "execution_count": null,
   "metadata": {},
   "outputs": [],
   "source": [
    "initial_state = [1/sqrt(2), 1j/sqrt(2)]  # Define state |q>"
   ]
  },
  {
   "cell_type": "code",
   "execution_count": null,
   "metadata": {},
   "outputs": [],
   "source": [
    "# We need to add these amplitudes to a python list. To add a complex amplitude we use complex, giving the real and imaginary parts as arguments:"
   ]
  },
  {
   "cell_type": "code",
   "execution_count": null,
   "metadata": {},
   "outputs": [],
   "source": [
    "qc = QuantumCircuit(1) # Must redefine qc\n",
    "qc.initialize(initial_state, 0) # Initialise the 0th qubit in the state `initial_state`\n",
    "state = execute(qc,backend).result().get_statevector() # Execute the circuit\n",
    "print(state)           # Print the result"
   ]
  },
  {
   "cell_type": "code",
   "execution_count": null,
   "metadata": {},
   "outputs": [],
   "source": [
    "results = execute(qc,backend).result().get_counts()\n",
    "plot_histogram(results)"
   ]
  },
  {
   "cell_type": "code",
   "execution_count": null,
   "metadata": {},
   "outputs": [],
   "source": [
    "# 2. -- The Rules of Measurement "
   ]
  },
  {
   "cell_type": "code",
   "execution_count": null,
   "metadata": {},
   "outputs": [],
   "source": [
    "# There is a simple rule for measurement. To find the probability of measuring a state  |ψ⟩  in the state  |x⟩  we do:\n",
    "\n",
    "# p(|x⟩)=|⟨x|ψ⟩|2"
   ]
  },
  {
   "cell_type": "raw",
   "metadata": {},
   "source": [
    "The symbols  \n",
    "...\n",
    "    ⟨  and  |  \n",
    "    ...\n",
    "tell us  ⟨x|  is a row vector. \n",
    "...\n",
    "( quantum mechanics ) \n",
    "...\n",
    "column vectors = 'kets' \n",
    "...\n",
    "row vectors = 'bras'.\n",
    "...\n",
    "bra-ket notation. \n",
    "...\n",
    "Any ket  |a⟩  has a corresponding bra  ⟨a|. Convert between them using the conjugate transpose.\n",
    "...\n",
    "In the equation above,  |x⟩  can be any qubit state. To find the probability of measuring  |x⟩ ,  take inner product of  |x⟩  and the state we are measuring ( in this case  |ψ⟩ ), then square the magnitude.\n",
    "...\n",
    "Implications of this Rules \n",
    "...\n",
    "    1 Normalisation \n",
    "    ...\n",
    "       Amplitudes are related to probabilities. For probabilities to add up to 1, necessary to ensure that the statevector is properly normalised. Specifically, magnitude of statevector must be 1 \n",
    "       ...\n",
    "    ⟨ψ|ψ⟩=1\n",
    "    ...\n",
    "    Thus if:\n",
    "    ...\n",
    "        |ψ⟩=α|0⟩+β|1⟩\n",
    "        ...\n",
    "    Then:\n",
    "    ...\n",
    "        sqrt{ |α|sqr + |β|sqr } = 1\n",
    "        ...\n",
    "       try to give initialize() a vector that isn’t normalised, it will give an error\n",
    "...\n",
    "    2 Alternative measurement \n",
    "    ...\n",
    "        measurement rule gives probability  p(|x⟩)  that a state  |ψ⟩  is measured as  |x⟩ . \n",
    "        Nowhere does it say |x⟩  can only be either  |0⟩  or  |1⟩ .\n",
    "...\n",
    "         Measurements considered thus far are one of an infinite number of possible ways to measure a qubit. For any orthogonal pair of states, it's possible to define a measurement that would cause a qubit to choose between the two.\n",
    "         ...\n",
    "...\n",
    "    3 Global Phase \n",
    "        Yes, measuring the state  |1⟩  will give us the output 1 with certainty. \n",
    "        But we are also able to write down states such as\n",
    "...\n",
    "            [ 0 ]\n",
    "            [ i ] = i|1⟩\n",
    "...\n",
    "        More generally, we refer to any overall factor  γ  on a state for which  |γ|=1  as a 'global phase'.\n",
    "        ...\n",
    "        States that differ only by a global phase are physically indistinguishable.\n",
    "...\n",
    "            |⟨x|(γ|a⟩)|sqr = |γ⟨x|a⟩|sqr = |⟨x|a⟩|sqr \n",
    " ...\n",
    "        Note, this is distinct from the phase difference between terms in a superposition, that one is known as the 'relative phase'.\n",
    "...\n",
    "    4 The Observer Effect \n",
    "    ...\n",
    "        the amplitudes contain information about the probability of us finding the qubit in a specific state, but once measured ( the qubit ), there is certainty about what state the qubit is in \n",
    "...\n"
   ]
  },
  {
   "cell_type": "code",
   "execution_count": null,
   "metadata": {},
   "outputs": [],
   "source": [
    "# initialise a qubit in superposition:"
   ]
  },
  {
   "cell_type": "code",
   "execution_count": null,
   "metadata": {},
   "outputs": [],
   "source": [
    "qc = QuantumCircuit(1) # Redefine qc\n",
    "initial_state = [0.+1.j/sqrt(2),1/sqrt(2)+0.j]\n",
    "qc.initialize(initial_state, 0)\n",
    "qc.draw('text')"
   ]
  },
  {
   "cell_type": "code",
   "execution_count": null,
   "metadata": {},
   "outputs": [],
   "source": [
    "state = execute(qc, backend).result().get_statevector()\n",
    "print(\"Qubit State = \" + str(state))"
   ]
  },
  {
   "cell_type": "code",
   "execution_count": null,
   "metadata": {},
   "outputs": [],
   "source": [
    "qc.measure_all()\n",
    "qc.draw('text')"
   ]
  },
  {
   "cell_type": "code",
   "execution_count": null,
   "metadata": {},
   "outputs": [],
   "source": [
    "state = execute(qc, backend).result().get_statevector()\n",
    "print(\"State of Measured Qubit = \" + str(state))"
   ]
  },
  {
   "cell_type": "code",
   "execution_count": null,
   "metadata": {},
   "outputs": [],
   "source": [
    "# The Bloch Sphere"
   ]
  },
  {
   "cell_type": "code",
   "execution_count": null,
   "metadata": {},
   "outputs": [],
   "source": [
    "from qiskit_textbook.widgets import plot_bloch_vector_spherical\n",
    "coords = [pi/2,0,1] # [Theta, Phi, Radius]\n",
    "plot_bloch_vector_spherical(coords) # Bloch Vector with spherical coordinates"
   ]
  },
  {
   "cell_type": "code",
   "execution_count": null,
   "metadata": {},
   "outputs": [],
   "source": [
    "from qiskit_textbook.widgets import bloch_calc\n",
    "bloch_calc()"
   ]
  }
 ],
 "metadata": {
  "kernelspec": {
   "display_name": "Python 3",
   "language": "python",
   "name": "python3"
  },
  "language_info": {
   "codemirror_mode": {
    "name": "ipython",
    "version": 3
   },
   "file_extension": ".py",
   "mimetype": "text/x-python",
   "name": "python",
   "nbconvert_exporter": "python",
   "pygments_lexer": "ipython3",
   "version": "3.8.3"
  }
 },
 "nbformat": 4,
 "nbformat_minor": 4
}
