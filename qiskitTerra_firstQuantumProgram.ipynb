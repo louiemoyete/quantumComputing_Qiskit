{
 "cells": [
  {
   "cell_type": "code",
   "execution_count": 1,
   "metadata": {},
   "outputs": [
    {
     "name": "stderr",
     "output_type": "stream",
     "text": [
      "c:\\users\\lmrec\\appdata\\local\\programs\\python\\python38-32\\lib\\site-packages\\qiskit\\__init__.py:62: RuntimeWarning: Could not import the Aer provider from the qiskit-aer package. Install qiskit-aer or check your installation.\n",
      "  warnings.warn('Could not import the Aer provider from the qiskit-aer '\n",
      "c:\\users\\lmrec\\appdata\\local\\programs\\python\\python38-32\\lib\\site-packages\\qiskit\\__init__.py:72: RuntimeWarning: Could not import the IBMQ provider from the qiskit-ibmq-provider package. Install qiskit-ibmq-provider or check your installation.\n",
      "  warnings.warn('Could not import the IBMQ provider from the '\n"
     ]
    },
    {
     "name": "stdout",
     "output_type": "stream",
     "text": [
      "{'00': 519, '11': 505}\n"
     ]
    }
   ],
   "source": [
    "from qiskit import *\n",
    "qc = QuantumCircuit(2, 2)\n",
    "qc.h(0)\n",
    "qc.cx(0, 1)\n",
    "qc.measure([0,1], [0,1])\n",
    "backend_sim = BasicAer.get_backend('qasm_simulator')\n",
    "transpiled_qc = transpile(qc, backend_sim)\n",
    "result = backend_sim.run(assemble(transpiled_qc)).result()\n",
    "print(result.get_counts(qc))"
   ]
  },
  {
   "cell_type": "code",
   "execution_count": null,
   "metadata": {},
   "outputs": [],
   "source": [
    "# Output Example : {'00': 498, '11': 526}"
   ]
  }
 ],
 "metadata": {
  "kernelspec": {
   "display_name": "Python 3",
   "language": "python",
   "name": "python3"
  },
  "language_info": {
   "codemirror_mode": {
    "name": "ipython",
    "version": 3
   },
   "file_extension": ".py",
   "mimetype": "text/x-python",
   "name": "python",
   "nbconvert_exporter": "python",
   "pygments_lexer": "ipython3",
   "version": "3.8.3"
  }
 },
 "nbformat": 4,
 "nbformat_minor": 4
}
